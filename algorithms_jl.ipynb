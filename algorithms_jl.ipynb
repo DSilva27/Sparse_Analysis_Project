{
 "cells": [
  {
   "cell_type": "code",
   "execution_count": 1,
   "metadata": {},
   "outputs": [],
   "source": [
    "using Printf\n",
    "using Random\n",
    "using LinearAlgebra\n",
    "using Statistics\n",
    "using Interact\n",
    "using Plots\n",
    "using Krylov\n",
    "rng = MersenneTwister(18);"
   ]
  },
  {
   "cell_type": "code",
   "execution_count": 2,
   "metadata": {},
   "outputs": [],
   "source": [
    "#include(\"/Data/Documents/PhD/2022/Fall_22/Numerical_Lineal_Algebra/homeworks/hw5/load_plot_pkg.jl\")\n",
    "#output = false"
   ]
  },
  {
   "cell_type": "code",
   "execution_count": 3,
   "metadata": {},
   "outputs": [
    {
     "data": {
      "text/plain": [
       "generate_data (generic function with 1 method)"
      ]
     },
     "metadata": {},
     "output_type": "display_data"
    }
   ],
   "source": [
    "function generate_data(N, M, K, sig_x_2)\n",
    "\n",
    "    dicti = randn(N, M) * sqrt(1/N)\n",
    "    dicti = mapslices(dicti -> dicti / norm(dicti), dicti, dims=1);\n",
    "\n",
    "    supp = zeros(Int64, M)\n",
    "    supp[1:K] .= 1\n",
    "    supp = shuffle(supp)\n",
    "\n",
    "    coeff = randn(M) * sqrt(sig_x_2) .* supp\n",
    "\n",
    "    return dicti, coeff, supp\n",
    "end\n"
   ]
  },
  {
   "attachments": {},
   "cell_type": "markdown",
   "metadata": {},
   "source": [
    "## Standard"
   ]
  },
  {
   "cell_type": "code",
   "execution_count": 4,
   "metadata": {},
   "outputs": [
    {
     "data": {
      "text/plain": [
       "run_mp (generic function with 2 methods)"
      ]
     },
     "metadata": {},
     "output_type": "display_data"
    }
   ],
   "source": [
    "function run_mp(signal, dicti, tol, max_steps=100000)\n",
    "\n",
    "    supp = zeros(Int64, size(dicti)[2])\n",
    "    coeffs = zeros(size(dicti)[2])\n",
    "    res = copy(signal)\n",
    "    errors = zeros(0)\n",
    "\n",
    "    for i = 1:max_steps\n",
    "\n",
    "        dot_res_dicti = transpose(dicti) * res\n",
    "        max_index = argmax(dot_res_dicti.^2)\n",
    "        supp[max_index] = 1\n",
    "        coeffs[max_index] += dot_res_dicti[max_index]\n",
    "\n",
    "        res = signal - dicti[:, supp.==1] * coeffs[supp.==1];\n",
    "\n",
    "        append!(errors, norm(res))\n",
    "\n",
    "        if errors[i] < tol\n",
    "            break\n",
    "        end\n",
    "    end\n",
    "\n",
    "    return coeffs, supp, errors\n",
    "end\n"
   ]
  },
  {
   "cell_type": "code",
   "execution_count": 5,
   "metadata": {},
   "outputs": [
    {
     "data": {
      "text/plain": [
       "run_omp (generic function with 2 methods)"
      ]
     },
     "metadata": {},
     "output_type": "display_data"
    }
   ],
   "source": [
    "function run_omp(signal, dicti, tol, max_steps=1000000)\n",
    "\n",
    "    supp = zeros(Int, size(dicti, 2))\n",
    "    coeffs = zeros(size(dicti, 2))\n",
    "    res = copy(signal)\n",
    "    errors = zeros(0)\n",
    "\n",
    "    for i in 1:max_steps\n",
    "        \n",
    "        max_index = argmax(abs.(dicti' * res))\n",
    "        supp[max_index] = 1\n",
    "        coeffs[supp.==1] = dicti[:, supp.==1] \\ signal\n",
    "        \n",
    "        res = signal - dicti[:, supp .== 1] * coeffs[supp .== 1]\n",
    "        \n",
    "        append!(errors, norm(res))\n",
    "\n",
    "        if errors[i] < tol\n",
    "            break\n",
    "        end\n",
    "    end\n",
    "\n",
    "    return coeffs, supp, errors\n",
    "end"
   ]
  },
  {
   "attachments": {},
   "cell_type": "markdown",
   "metadata": {},
   "source": [
    "## Bayesian"
   ]
  },
  {
   "cell_type": "code",
   "execution_count": 6,
   "metadata": {},
   "outputs": [
    {
     "data": {
      "text/plain": [
       "log_joint_p (generic function with 1 method)"
      ]
     },
     "metadata": {},
     "output_type": "display_data"
    }
   ],
   "source": [
    "function log_joint_p(res, coeffs, supp, sig_w_2, sig_x_2, pj)\n",
    "\n",
    "    log_p_y_xs = (-0.5 / sig_w_2) * norm(res)^2 - 0.5 * size(res)[1] * log(2*pi * sig_w_2)\n",
    "    log_p_x = -0.5 / sig_x_2 * norm(coeffs)^2 - 0.5 * size(coeffs)[1] * log(2*pi * sig_x_2)\n",
    "    log_p_s = sum(supp .* log(pj) .+ (supp .- 1) .* log(1 - pj))\n",
    "\n",
    "    return log_p_y_xs + log_p_x + log_p_s\n",
    "end"
   ]
  },
  {
   "cell_type": "code",
   "execution_count": 7,
   "metadata": {},
   "outputs": [
    {
     "data": {
      "text/plain": [
       "run_bmp (generic function with 1 method)"
      ]
     },
     "metadata": {},
     "output_type": "display_data"
    }
   ],
   "source": [
    "function run_bmp(signal, dicti, sig_w_2, sig_x_2, pj)\n",
    "    supp = zeros(Int64, size(dicti)[2])\n",
    "    coeffs = zeros(size(dicti)[2])\n",
    "    res = copy(signal)\n",
    "    errors = zeros(0)\n",
    "\n",
    "    lambda = sig_w_2 * log((1 - pj) / pj)\n",
    "    epsilon = sig_w_2 / sig_x_2\n",
    "    thresh = 2 * (sig_x_2 + sig_w_2) * lambda / sig_x_2\n",
    "    old_logpos = -Inf\n",
    "\n",
    "    for i = 1:100000\n",
    "\n",
    "        dot_dicti_res = transpose(dicti) * res\n",
    "\n",
    "        s_tilde = Int64.(((supp .* coeffs .+ dot_dicti_res).^2) .>  thresh)\n",
    "        x_tilde = s_tilde .* (sig_x_2 / (sig_x_2 + sig_w_2)) .* (coeffs .* supp .+ dot_dicti_res)\n",
    "\n",
    "        f1 = -0.5 .* map(norm, eachcol(res .+ dicti .* (coeffs .- x_tilde)')).^2\n",
    "        f2 = -0.5 .* epsilon .* x_tilde.^2 .- lambda .* s_tilde\n",
    "\n",
    "        i_ast = argmax(f1 + f2)\n",
    "\n",
    "        supp[i_ast] = s_tilde[i_ast]\n",
    "        coeffs[i_ast] = x_tilde[i_ast]\n",
    "\n",
    "        res = signal - dicti[:, supp.==1] * coeffs[supp.==1]\n",
    "        curr_logpos = log_joint_p(res, coeffs, supp, sig_w_2, sig_x_2, pj)\n",
    "\n",
    "        #append!(errors, norm(res))\n",
    "        append!(errors, curr_logpos)\n",
    "\n",
    "        if (curr_logpos <= old_logpos)\n",
    "            return coeffs, supp, errors\n",
    "        else\n",
    "            old_logpos = curr_logpos\n",
    "        end\n",
    "    end\n",
    "\n",
    "    return coeffs, supp, errors\n",
    "end"
   ]
  },
  {
   "cell_type": "code",
   "execution_count": 8,
   "metadata": {},
   "outputs": [
    {
     "data": {
      "text/plain": [
       "run_bomp (generic function with 1 method)"
      ]
     },
     "metadata": {},
     "output_type": "display_data"
    }
   ],
   "source": [
    "function run_bomp(signal, dicti, sig_w_2, sig_x_2, pj)\n",
    "    supp = zeros(Int64, size(dicti)[2])\n",
    "    coeffs = zeros(size(dicti)[2])\n",
    "    res = copy(signal)\n",
    "    errors = zeros(0)\n",
    "\n",
    "    lambda = sig_w_2 * log((1 - pj) / pj)\n",
    "    epsilon = sig_w_2 / sig_x_2\n",
    "    thresh = 2 * (sig_x_2 + sig_w_2) * lambda / sig_x_2\n",
    "    old_logpos = -Inf\n",
    "\n",
    "    for i = 1:100000\n",
    "\n",
    "        dot_dicti_res = transpose(dicti) * res\n",
    "\n",
    "        s_tilde = Int64.(((supp .* coeffs .+ dot_dicti_res).^2) .>  thresh)\n",
    "        x_tilde = s_tilde .* (sig_x_2 / (sig_x_2 + sig_w_2)) .* (coeffs .* supp .+ dot_dicti_res)\n",
    "\n",
    "        f1 = -0.5 .* map(norm, eachcol(res .+ dicti .* (coeffs .- x_tilde)')).^2\n",
    "        f2 = -0.5 .* epsilon .* x_tilde.^2 .- lambda .* s_tilde\n",
    "\n",
    "        i_ast = argmax(f1 + f2)\n",
    "\n",
    "        supp[i_ast] = s_tilde[i_ast]\n",
    "        coeffs[supp.==1] = cgls(dicti[:, supp.==1], signal, λ=sig_w_2/sig_x_2)[1]\n",
    "\n",
    "        res = signal - dicti[:, supp.==1] * coeffs[supp.==1]\n",
    "        curr_logpos = log_joint_p(res, coeffs, supp, sig_w_2, sig_x_2, pj)\n",
    "\n",
    "        #append!(errors, norm(res))\n",
    "        append!(errors, curr_logpos)\n",
    "\n",
    "        if (curr_logpos <= old_logpos)\n",
    "            return coeffs, supp, errors\n",
    "        else\n",
    "            old_logpos = curr_logpos\n",
    "        end\n",
    "    end\n",
    "\n",
    "    return coeffs, supp, errors\n",
    "end"
   ]
  },
  {
   "cell_type": "code",
   "execution_count": 9,
   "metadata": {},
   "outputs": [
    {
     "data": {
      "text/plain": [
       "run_bstomp (generic function with 1 method)"
      ]
     },
     "metadata": {},
     "output_type": "display_data"
    }
   ],
   "source": [
    "function run_bstomp(signal, dicti, sig_w_2, sig_x_2, pj)\n",
    "    supp = zeros(Int64, size(dicti)[2])\n",
    "    coeffs = zeros(size(dicti)[2])\n",
    "    res = copy(signal)\n",
    "    errors = zeros(0)\n",
    "    \n",
    "    lambda = sig_w_2 * log((1 - pj) / pj)\n",
    "    epsilon = sig_w_2 / sig_x_2\n",
    "    old_logpos = -Inf\n",
    "    \n",
    "    for i = 1:100000\n",
    "        \n",
    "        dot_dicti_res = transpose(dicti) * res\n",
    "        \n",
    "        norm_res_2_N = norm(res)^2 / size(signal)[1]\n",
    "        thresh = 2 * norm_res_2_N * (sig_x_2 + norm_res_2_N) / sig_x_2 * log((1 - pj) / pj)\n",
    "        \n",
    "        supp = Int64.(((supp .* coeffs .+ dot_dicti_res).^2) .>  thresh)\n",
    "        coeffs[supp.==1] = cgls(dicti[:, supp.==1], signal, λ=sig_w_2/sig_x_2)[1]\n",
    "        coeffs[supp.==0] .= 0\n",
    "\n",
    "        res = signal - dicti[:, supp.==1] * coeffs[supp.==1]\n",
    "        curr_logpos = log_joint_p(res, coeffs, supp, sig_w_2, sig_x_2, pj)\n",
    "\n",
    "        #append!(errors, norm(res))\n",
    "        append!(errors, curr_logpos)\n",
    "\n",
    "        if (curr_logpos <= old_logpos)\n",
    "            return coeffs, supp, errors\n",
    "        else\n",
    "            old_logpos = curr_logpos\n",
    "        end\n",
    "    end\n",
    "\n",
    "    return coeffs, supp, errors\n",
    "end"
   ]
  },
  {
   "cell_type": "code",
   "execution_count": 10,
   "metadata": {},
   "outputs": [],
   "source": [
    "N = 128\n",
    "M = 256\n",
    "K = 15\n",
    "sig_w_2 = 1e-5\n",
    "sig_x_2 = 10\n",
    "\n",
    "config = Dict([\n",
    "    (\"N\", N),\n",
    "    (\"M\", M),\n",
    "    (\"sig_w_2\", sig_w_2),\n",
    "    (\"sig_x_2\", sig_x_2),\n",
    "]);"
   ]
  },
  {
   "cell_type": "code",
   "execution_count": 11,
   "metadata": {},
   "outputs": [
    {
     "data": {
      "text/plain": [
       "run_trial (generic function with 1 method)"
      ]
     },
     "metadata": {},
     "output_type": "display_data"
    }
   ],
   "source": [
    "function run_trial(config, k)\n",
    "    \n",
    "    dicti, true_coeffs, true_supp = generate_data(config[\"N\"], config[\"M\"], k, config[\"sig_x_2\"])\n",
    "    signal = dicti * true_coeffs + randn(config[\"N\"]) .* sqrt(config[\"sig_w_2\"])\n",
    "    \n",
    "    coeffs_mp, supp_mp, errors_mp = run_mp(signal, dicti, sqrt(config[\"N\"] * config[\"sig_w_2\"]))\n",
    "    coeffs_omp, supp_omp, errors_omp = run_omp(signal, dicti, sqrt(config[\"N\"] * config[\"sig_w_2\"]))\n",
    "\n",
    "    coeffs_bmp, supp_bmp, errors_bmp = run_bmp(signal, dicti, config[\"sig_w_2\"], config[\"sig_x_2\"]*100, k/config[\"M\"])\n",
    "    coeffs_bomp, supp_bomp, errors_bomp = run_bomp(signal, dicti, config[\"sig_w_2\"], config[\"sig_x_2\"]*100, k/config[\"M\"])\n",
    "    coeffs_bstomp, supp_bstomp, errors_bstomp = run_bstomp(signal, dicti, config[\"sig_w_2\"], config[\"sig_x_2\"]*100, k/config[\"M\"])\n",
    "\n",
    "    output = Dict([\n",
    "        (\"Ref\", (true_coeffs, true_supp)),\n",
    "        (\"MP\", (coeffs_mp, supp_mp, errors_mp)),\n",
    "        (\"OMP\", (coeffs_omp, supp_omp, errors_omp)),\n",
    "        (\"BMP\", (coeffs_bmp, supp_bmp, errors_bmp)),\n",
    "        (\"BOMP\", (coeffs_bomp, supp_bomp, errors_bomp)),\n",
    "        (\"BSTOMP\", (coeffs_bstomp, supp_bstomp, errors_bstomp))\n",
    "    ])\n",
    "\n",
    "    return output\n",
    "end"
   ]
  },
  {
   "cell_type": "code",
   "execution_count": 24,
   "metadata": {},
   "outputs": [
    {
     "data": {
      "text/plain": [
       "compute_stats (generic function with 1 method)"
      ]
     },
     "metadata": {},
     "output_type": "display_data"
    }
   ],
   "source": [
    "function compute_stats(res_trial)\n",
    "\n",
    "    stats = Dict()\n",
    "\n",
    "    true_coeffs, true_supp = res_trial[\"Ref\"]\n",
    "\n",
    "    for (key, values) in res_trial\n",
    "        if (key == \"Ref\")\n",
    "            continue\n",
    "        else\n",
    "            max_error = norm(values[1] - true_coeffs, Inf)\n",
    "            #mean_error = sum((values[1] - true_coeffs).^2) / sum((values[2].==1) .+ (true_supp.==1))\n",
    "            mean_error = norm(values[1] - true_coeffs) / norm(true_coeffs)\n",
    "            supp_eq = Int(values[2] == true_supp)\n",
    "            n_iter = size(values[3])[1]\n",
    "\n",
    "            stats[key] = (max_error, mean_error, supp_eq, n_iter)\n",
    "        end\n",
    "    end\n",
    "\n",
    "    return stats\n",
    "end\n"
   ]
  },
  {
   "cell_type": "code",
   "execution_count": 136,
   "metadata": {},
   "outputs": [
    {
     "data": {
      "text/plain": [
       "\"/Data/Documents/PhD/Spring23/Sparse_Analysis/project/Figure_Recon.pdf\""
      ]
     },
     "metadata": {},
     "output_type": "display_data"
    }
   ],
   "source": [
    "res_trial = run_trial(config, 10)\n",
    "\n",
    "x = Array(range(1, M, length=M))\n",
    "\n",
    "plot(\n",
    "    layout=(2, 3), size=(1000, 400), left_margin = 5Plots.mm,\n",
    "    bottom_margin = 5Plots.mm\n",
    ")\n",
    "\n",
    "plot!(x, res_trial[\"Ref\"][1], label=\"\", subplot=1, lc=:black, ylabel=\"Coef. Value\")\n",
    "scatter!(x[res_trial[\"Ref\"][2].==1], res_trial[\"Ref\"][1][res_trial[\"Ref\"][2].==1], label=\"Ref\", subplot=1)\n",
    "\n",
    "plot!(x, res_trial[\"Ref\"][1], label=\"Ref\", subplot=2, lc=:black)\n",
    "scatter!(x[res_trial[\"MP\"][2].==1], res_trial[\"MP\"][1][res_trial[\"MP\"][2].==1], label=\"MP\", subplot=2, mc=:blue)\n",
    "\n",
    "plot!(x, res_trial[\"Ref\"][1], label=\"Ref\", subplot=3, lc=:black)\n",
    "scatter!(x[res_trial[\"BMP\"][2].==1], res_trial[\"BMP\"][1][res_trial[\"BMP\"][2].==1], label=\"BMP\", subplot=3, mc=:blue)\n",
    "\n",
    "plot!(x, res_trial[\"Ref\"][1], label=\"Ref\", subplot=4, lc=:black, ylabel=\"Coef. Value\")\n",
    "scatter!(x[res_trial[\"OMP\"][2].==1], res_trial[\"OMP\"][1][res_trial[\"OMP\"][2].==1], label=\"OMP\", subplot=4, mc=:red)\n",
    "\n",
    "plot!(x, res_trial[\"Ref\"][1], label=\"Ref\", subplot=5, lc=:black)\n",
    "scatter!(x[res_trial[\"BOMP\"][2].==1], res_trial[\"BOMP\"][1][res_trial[\"BOMP\"][2].==1], label=\"BOMP\", subplot=5, mc=:red, xlabel=\"Index\")\n",
    "\n",
    "plot!(x, res_trial[\"Ref\"][1], label=\"Ref\", subplot=6, lc=:black)\n",
    "scatter!(x[res_trial[\"BSTOMP\"][2].==1], res_trial[\"BSTOMP\"][1][res_trial[\"BSTOMP\"][2].==1], label=\"BSTOMP\", subplot=6, mc=:green)\n",
    "\n",
    "\n",
    "savefig(\"Figure_Recon.pdf\")"
   ]
  },
  {
   "cell_type": "code",
   "execution_count": 30,
   "metadata": {},
   "outputs": [
    {
     "name": "stdout",
     "output_type": "stream",
     "text": [
      "1\n"
     ]
    },
    {
     "name": "stdout",
     "output_type": "stream",
     "text": [
      "2\n"
     ]
    },
    {
     "name": "stdout",
     "output_type": "stream",
     "text": [
      "3\n"
     ]
    },
    {
     "name": "stdout",
     "output_type": "stream",
     "text": [
      "4\n"
     ]
    },
    {
     "name": "stdout",
     "output_type": "stream",
     "text": [
      "5\n"
     ]
    },
    {
     "name": "stdout",
     "output_type": "stream",
     "text": [
      "6\n"
     ]
    },
    {
     "name": "stdout",
     "output_type": "stream",
     "text": [
      "7\n"
     ]
    },
    {
     "name": "stdout",
     "output_type": "stream",
     "text": [
      "8\n"
     ]
    },
    {
     "name": "stdout",
     "output_type": "stream",
     "text": [
      "9\n"
     ]
    },
    {
     "name": "stdout",
     "output_type": "stream",
     "text": [
      "10\n"
     ]
    },
    {
     "name": "stdout",
     "output_type": "stream",
     "text": [
      "11\n"
     ]
    },
    {
     "name": "stdout",
     "output_type": "stream",
     "text": [
      "12\n"
     ]
    },
    {
     "name": "stdout",
     "output_type": "stream",
     "text": [
      "13\n"
     ]
    }
   ],
   "source": [
    "K = Int.(round.(LinRange(5, 100, 13)))\n",
    "n_trials = 100\n",
    "\n",
    "results = Dict([\n",
    "    (\"MP\", (zeros(size(K)[1], n_trials), zeros(size(K)[1]), zeros(size(K)[1]))),\n",
    "    (\"OMP\", (zeros(size(K)[1], n_trials), zeros(size(K)[1]), zeros(size(K)[1]))),\n",
    "    (\"BMP\", (zeros(size(K)[1], n_trials), zeros(size(K)[1]), zeros(size(K)[1]))),\n",
    "    (\"BOMP\", (zeros(size(K)[1], n_trials), zeros(size(K)[1]), zeros(size(K)[1]))),\n",
    "    (\"BSTOMP\", (zeros(size(K)[1], n_trials), zeros(size(K)[1]), zeros(size(K)[1])))\n",
    "])\n",
    "\n",
    "\n",
    "for i = 1:size(K)[1]\n",
    "\n",
    "    k = K[i]\n",
    "    println(i)\n",
    "    for j = 1:n_trials\n",
    "\n",
    "        res_trial = run_trial(config, k)\n",
    "        stats_trial = compute_stats(res_trial)\n",
    "\n",
    "        for (key, values) in stats_trial\n",
    "            results[key][1][i, j] = stats_trial[key][2] # Error\n",
    "            results[key][2][i] += stats_trial[key][3] # Support recovery\n",
    "            results[key][3][i] += stats_trial[key][4] # Support recovery\n",
    "        end\n",
    "    end\n",
    "\n",
    "    for (key, values) in results\n",
    "        results[key][2][i] /= n_trials\n",
    "        results[key][3][i] /= n_trials\n",
    "    end\n",
    "end"
   ]
  },
  {
   "cell_type": "code",
   "execution_count": 113,
   "metadata": {},
   "outputs": [
    {
     "data": {
      "text/plain": [
       "\"/Data/Documents/PhD/Spring23/Sparse_Analysis/project/Figure_Error.pdf\""
      ]
     },
     "metadata": {},
     "output_type": "display_data"
    }
   ],
   "source": [
    "plot(\n",
    "    layout=(1, 2), size=(800, 400), left_margin = 5Plots.mm,\n",
    "    bottom_margin = 5Plots.mm, xlabel=\"Sparsity (K)\"\n",
    ")\n",
    "\n",
    "p_errors = plot!(K, mean(results[\"MP\"][1], dims=2), lc=:red, label=\"MP\",\n",
    "    marker=:^, mc=:red, ms=:5, yscale=:log10, legend=:false, subplot=1,\n",
    "    ylabel=\"Mean relative error\"\n",
    ")\n",
    "p_errors = plot!(K, mean(results[\"BMP\"][1], dims=2), \n",
    "    lc=:red, label=\"BMP\", marker=:^, mc=:red, ms=:5, ls=:dash, yscale=:log10, subplot=1\n",
    ")\n",
    "p_errors = plot!(K, mean(results[\"OMP\"][1], dims=2), \n",
    "    lc=:blue, label=\"OMP\", marker=:cross, mc=:blue, ms=:5, yscale=:log10, subplot=1\n",
    ")\n",
    "p_errors = plot!(K, mean(results[\"BOMP\"][1], dims=2), \n",
    "    lc=:blue, label=\"BOMP\", marker=:cross, mc=:blue, ms=:5, ls=:dash, yscale=:log10, subplot=1 \n",
    ")\n",
    "p_errors = plot!(K, mean(results[\"BSTOMP\"][1], dims=2), \n",
    "    lc=:green, label=\"BSTOMP\", marker=:circle, mc=:green, ms=:5, ls=:dash, yscale=:log10, subplot=1\n",
    ")\n",
    "p_errors = hline!([1], yscale=:log10, lc=:black, label=\"\", subplot=1)\n",
    "\n",
    "p_supp = plot!(\n",
    "    K, 1.0 .- results[\"MP\"][2], lc=:red, mc=:red, marker=:^, legend=:outerright,\n",
    "    ms=:5, label=\"MP\", subplot=2, ylabel=\"Freq. of error in support\"\n",
    ")\n",
    "p_supp = plot!(K, 1.0 .- results[\"BMP\"][2], lc=:red, ls=:dash, marker=:^, mc=:red, ms=:5, label=\"BMP\", subplot=2)\n",
    "p_supp = plot!(K, 1.0 .- results[\"OMP\"][2], lc=:blue, mc=:blue, marker=:cross, label=\"OMP\", subplot=2)\n",
    "p_supp = plot!(K, 1.0 .- results[\"BOMP\"][2], lc=:blue, ls=:dash, mc=:blue, marker=:cross, label=\"BOMP\", subplot=2)\n",
    "p_supp = plot!(K, 1.0 .- results[\"BSTOMP\"][2], lc=:green, ls=:dash, mc=:green, marker=:circle, label=\"BSTOMP\", subplot=2)\n",
    "\n",
    "\n",
    "savefig(\"Figure_Error.pdf\")"
   ]
  },
  {
   "cell_type": "code",
   "execution_count": 17,
   "metadata": {},
   "outputs": [
    {
     "data": {
      "text/plain": [
       "run_time_test (generic function with 1 method)"
      ]
     },
     "metadata": {},
     "output_type": "display_data"
    }
   ],
   "source": [
    "function run_time_test(config, K, n_trials)\n",
    "    \n",
    "    results = Dict([\n",
    "        (\"MP\", (zeros(size(K)[1]))),\n",
    "        (\"OMP\", (zeros(size(K)[1]))),\n",
    "        (\"BMP\", (zeros(size(K)[1]))),\n",
    "        (\"BOMP\", (zeros(size(K)[1]))),\n",
    "        (\"BSTOMP\", (zeros(size(K)[1])))\n",
    "    ])\n",
    "\n",
    "    for i = 1:size(K)[1]\n",
    "\n",
    "        k = K[i]\n",
    "        for j = 1:n_trials\n",
    "    \n",
    "            dicti, true_coeffs, true_supp = generate_data(config[\"N\"], config[\"M\"], k, config[\"sig_x_2\"])\n",
    "            signal = dicti * true_coeffs + randn(config[\"N\"]) .* sqrt(config[\"sig_w_2\"])\n",
    "            time_mp = @elapsed run_mp(signal, dicti, sqrt(config[\"N\"] * config[\"sig_w_2\"]))\n",
    "            time_omp = @elapsed run_omp(signal, dicti, sqrt(config[\"N\"] * config[\"sig_w_2\"]))\n",
    "            time_bmp = @elapsed run_bmp(signal, dicti, config[\"sig_w_2\"], config[\"sig_x_2\"], k/config[\"M\"])\n",
    "            time_bomp = @elapsed run_bomp(signal, dicti, config[\"sig_w_2\"], config[\"sig_x_2\"], k/config[\"M\"])\n",
    "            time_bstomp = @elapsed run_bstomp(signal, dicti, config[\"sig_w_2\"], config[\"sig_x_2\"], k/config[\"M\"])\n",
    "\n",
    "            results[\"MP\"][i] += time_mp\n",
    "            results[\"OMP\"][i] += time_omp\n",
    "            results[\"BMP\"][i] += time_bmp\n",
    "            results[\"BOMP\"][i] += time_bomp\n",
    "            results[\"BSTOMP\"][i] += time_bstomp\n",
    "        end\n",
    "    \n",
    "        for (key, values) in results\n",
    "            results[key][i] /= n_trials\n",
    "        end\n",
    "    end\n",
    "\n",
    "    return results\n",
    "end"
   ]
  },
  {
   "cell_type": "code",
   "execution_count": 18,
   "metadata": {},
   "outputs": [
    {
     "data": {
      "text/plain": [
       "Dict{String, Vector{Float64}} with 5 entries:\n",
       "  \"BSTOMP\" => [0.000186123, 0.000711811, 0.000773277, 0.00129143, 0.0017939, 0.…\n",
       "  \"MP\"     => [0.000220962, 0.000859539, 0.00233407, 0.0148123, 0.0405853, 0.05…\n",
       "  \"BOMP\"   => [0.00128929, 0.00362858, 0.00430349, 0.00649816, 0.0086633, 0.011…\n",
       "  \"OMP\"    => [0.000226975, 0.00091908, 0.00188237, 0.00307399, 0.00539146, 0.0…\n",
       "  \"BMP\"    => [0.00134914, 0.00539959, 0.0111277, 0.0348527, 0.0756673, 0.10252…"
      ]
     },
     "metadata": {},
     "output_type": "display_data"
    }
   ],
   "source": [
    "#time_results = run_time_test(config, K, 100)"
   ]
  },
  {
   "cell_type": "code",
   "execution_count": 117,
   "metadata": {},
   "outputs": [
    {
     "data": {
      "text/plain": [
       "\"/Data/Documents/PhD/Spring23/Sparse_Analysis/project/Figure_Time.pdf\""
      ]
     },
     "metadata": {},
     "output_type": "display_data"
    }
   ],
   "source": [
    "plot(\n",
    "    layout=(1, 2), size=(1000, 400), left_margin=5Plots.mm,\n",
    "    bottom_margin=5Plots.mm, xlabel=\"Sparsity (K)\", legend=false\n",
    ")\n",
    "\n",
    "# Computing time\n",
    "plot!(K, time_results[\"MP\"], lc=:red, mc=:red, marker=:^, ms=:5, label=\"MP\", yscale=:log10, subplot=1, ylabel=\"Computing Time\")\n",
    "plot!(K, time_results[\"BMP\"], lc=:red, ls=:dash, marker=:^, mc=:red, ms=:5, label=\"BMP\", yscale=:log10, subplot=1)\n",
    "\n",
    "plot!(K, time_results[\"OMP\"], lc=:blue, mc=:blue, marker=:cross, label=\"OMP\", yscale=:log10, subplot=1)\n",
    "plot!(K, time_results[\"BOMP\"], lc=:blue, ls=:dash, mc=:blue, marker=:cross, label=\"BOMP\", yscale=:log10, subplot=1)\n",
    "plot!(K, time_results[\"BSTOMP\"], lc=:green, ls=:dash, mc=:green, marker=:circle, label=\"BSTOMP\", yscale=:log10, subplot=1)\n",
    "\n",
    "# Number of iterations\n",
    "plot!(K, results[\"MP\"][3], lc=:red, label=\"MP\", marker=:^, ylabel=\"Number of iterations\",\n",
    "    mc=:red, ms=:5, yscale=:log10, legend=:bottomright, subplot=2\n",
    ")\n",
    "\n",
    "plot!(K, results[\"BMP\"][3], lc=:red, label=\"BMP\",\n",
    "    marker=:^, mc=:red, ms=:5, ls=:dash, subplot=2\n",
    ")\n",
    "\n",
    "plot!(K, results[\"OMP\"][3], lc=:blue, label=\"OMP\",\n",
    "    marker=:cross, mc=:blue, ms=:5, subplot=2\n",
    ")\n",
    "\n",
    "plot!(K, results[\"BOMP\"][3], lc=:blue, label=\"BOMP\",\n",
    "    marker=:cross, mc=:blue, ms=:5, ls=:dash, subplot=2\n",
    ")\n",
    "\n",
    "plot!(K, results[\"BSTOMP\"][3], lc=:green, label=\"BSTOMP\",\n",
    "    marker=:circle, mc=:green, ms=:5, ls=:dash, subplot=2, legend=:outerright\n",
    ")\n",
    "\n",
    "savefig(\"Figure_Time.pdf\")"
   ]
  }
 ],
 "metadata": {
  "kernelspec": {
   "display_name": "Julia 1.8.1",
   "language": "julia",
   "name": "julia-1.8"
  },
  "language_info": {
   "file_extension": ".jl",
   "mimetype": "application/julia",
   "name": "julia",
   "version": "1.8.1"
  },
  "orig_nbformat": 4
 },
 "nbformat": 4,
 "nbformat_minor": 2
}
